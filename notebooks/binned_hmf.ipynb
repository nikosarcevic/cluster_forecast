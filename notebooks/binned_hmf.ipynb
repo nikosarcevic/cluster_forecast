{
 "cells": [
  {
   "cell_type": "code",
   "execution_count": null,
   "id": "0",
   "metadata": {},
   "outputs": [],
   "source": [
    "import sys, pathlib\n",
    "from pathlib import Path\n",
    "sys.path.append(str(pathlib.Path().resolve()))\n",
    "\n",
    "from plotting_scripts import plot_binned_hmf\n",
    "from src.cluster_forecast.compute_helpers import compute_binned_hmf_data\n"
   ]
  },
  {
   "cell_type": "code",
   "execution_count": null,
   "id": "1",
   "metadata": {},
   "outputs": [],
   "source": [
    "# Here we loop over all the combinations of year, HMF, and forward profile\n",
    "years = [\"Y1\", \"Y10\"]\n",
    "hmf_names = [\"tinker08\", \"tinker10\", \"jenkins\"]\n",
    "fwd_profiles = [\"default\", \"tinker10_best_fit\", \"jenkins_best_fit\"]\n",
    "\n",
    "plt_dir = Path(\"plots\")\n",
    "plt_dir.mkdir(parents=True, exist_ok=True)\n",
    "\n",
    "for year in years:\n",
    "    for hmf_name in hmf_names:\n",
    "        for fwd_profile in fwd_profiles:\n",
    "            print(f\"Computing {year}, {hmf_name}, {fwd_profile}\")\n",
    "\n",
    "            bundle = compute_binned_hmf_data(\n",
    "                year=year,\n",
    "                hmf_name=hmf_name,\n",
    "                inv_profile=\"default\",\n",
    "                fwd_profile=fwd_profile,\n",
    "                norm_all_z=(hmf_name == \"tinker10\"),\n",
    "            )\n",
    "\n",
    "            # now we grab everything we need from the bundle\n",
    "            z_centers = bundle[\"z_centers\"]\n",
    "            z_edges = bundle[\"z_edges\"]\n",
    "            mass_centers = bundle[\"mass_centers\"]\n",
    "            dn_data = bundle[\"dn_data\"]\n",
    "            dn_err = bundle[\"dn_err\"]\n",
    "            dn_fwd = bundle[\"dn_fwd\"]\n",
    "            dn_inv = bundle[\"dn_inv\"]\n",
    "            area_deg2 = bundle[\"area_deg2\"]\n",
    "            nz = len(z_centers)\n",
    "\n",
    "            plot_binned_hmf(\n",
    "                year=year,\n",
    "                hmf_name=hmf_name,\n",
    "                z_centers=z_centers,\n",
    "                z_edges=z_edges,\n",
    "                nz=nz,\n",
    "                mass_centers=mass_centers,\n",
    "                dn_fwd=dn_fwd,\n",
    "                dn_inv=dn_inv,\n",
    "                dn_data=dn_data,\n",
    "                area_deg2=area_deg2,\n",
    "                plt_dir=plt_dir,\n",
    "                fwd_profile=fwd_profile,\n",
    "            )\n"
   ]
  }
 ],
 "metadata": {
  "kernelspec": {
   "display_name": "Python 3",
   "language": "python",
   "name": "python3"
  },
  "language_info": {
   "codemirror_mode": {
    "name": "ipython",
    "version": 2
   },
   "file_extension": ".py",
   "mimetype": "text/x-python",
   "name": "python",
   "nbconvert_exporter": "python",
   "pygments_lexer": "ipython2",
   "version": "2.7.6"
  }
 },
 "nbformat": 4,
 "nbformat_minor": 5
}
